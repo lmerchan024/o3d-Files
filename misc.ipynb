{
 "cells": [
  {
   "cell_type": "code",
   "execution_count": 3,
   "id": "e802a5dc-fa44-4268-8206-f611a32db9e4",
   "metadata": {},
   "outputs": [],
   "source": [
    "import open3d as o3d\n",
    "import numpy as np\n",
    "\n",
    "armadillo_mesh=o3d.data.ArmadilloMesh()\n",
    "mesh=o3d.io.read_triangle_mesh(armadillo_mesh.path)\n",
    "o3d.visualization.draw_geometries([mesh])\n",
    "mesh.compute_vertex_normals()\n",
    "o3d.visualization.draw_geometries([mesh])"
   ]
  },
  {
   "cell_type": "code",
   "execution_count": null,
   "id": "ea8646a1-c205-47f4-8f2a-0f4796db0ea5",
   "metadata": {},
   "outputs": [],
   "source": [
    "#A function used to test properties and visualize the results\n",
    "def check_properties(name, mesh):\n",
    "    mesh.compute_vertex_normals()\n",
    "\n",
    "    edge_manifold = mesh.is_edge_manifold(allow_boundary_edges=True)\n",
    "    edge_manifold_boundary = mesh.is_edge_manifold(allow_boundary_edges=False)\n",
    "    vertex_manifold = mesh.is_vertex_manifold()\n",
    "    self_intersecting = mesh.is_self_intersecting()\n",
    "    watertight = mesh.is_watertight()\n",
    "    orientable = mesh.is_orientable()\n",
    "\n",
    "    print(name)\n",
    "    print(f\"  edge_manifold:          {edge_manifold}\")\n",
    "    print(f\"  edge_manifold_boundary: {edge_manifold_boundary}\")\n",
    "    print(f\"  vertex_manifold:        {vertex_manifold}\")\n",
    "    print(f\"  self_intersecting:      {self_intersecting}\")\n",
    "    print(f\"  watertight:             {watertight}\")\n",
    "    print(f\"  orientable:             {orientable}\")\n",
    "\n",
    "    geoms = [mesh]\n",
    "    if not edge_manifold:\n",
    "        edges = mesh.get_non_manifold_edges(allow_boundary_edges=True)\n",
    "        geoms.append(o3dtut.edges_to_lineset(mesh, edges, (1, 0, 0)))\n",
    "    if not edge_manifold_boundary:\n",
    "        edges = mesh.get_non_manifold_edges(allow_boundary_edges=False)\n",
    "        geoms.append(o3dtut.edges_to_lineset(mesh, edges, (0, 1, 0)))\n",
    "    if not vertex_manifold:\n",
    "        verts = np.asarray(mesh.get_non_manifold_vertices())\n",
    "        pcl = o3d.geometry.PointCloud(\n",
    "            points=o3d.utility.Vector3dVector(np.asarray(mesh.vertices)[verts]))\n",
    "        pcl.paint_uniform_color((0, 0, 1))\n",
    "        geoms.append(pcl)\n",
    "    if self_intersecting:\n",
    "        intersecting_triangles = np.asarray(\n",
    "            mesh.get_self_intersecting_triangles())\n",
    "        intersecting_triangles = intersecting_triangles[0:1]\n",
    "        intersecting_triangles = np.unique(intersecting_triangles)\n",
    "        print(\"  # visualize self-intersecting triangles\")\n",
    "        triangles = np.asarray(mesh.triangles)[intersecting_triangles]\n",
    "        edges = [\n",
    "            np.vstack((triangles[:, i], triangles[:, j]))\n",
    "            for i, j in [(0, 1), (1, 2), (2, 0)]\n",
    "        ]\n",
    "        edges = np.hstack(edges).T\n",
    "        edges = o3d.utility.Vector2iVector(edges)\n",
    "        geoms.append(o3dtut.edges_to_lineset(mesh, edges, (1, 0, 1)))\n",
    "    o3d.visualization.draw_geometries(geoms, mesh_show_back_face=True)"
   ]
  },
  {
   "cell_type": "code",
   "execution_count": null,
   "id": "9f5e4163-8791-4665-8ba2-9c30d9df7f96",
   "metadata": {},
   "outputs": [],
   "source": [
    "input_mesh=mesh\n",
    "o3d.visualization.draw_geometries([input_mesh])\n",
    "output_mesh= input_mesh.filter_smooth_simple(number_of_iterations=5)\n",
    "output_mesh.compute_vertex_normals()\n",
    "o3d.visualization.draw_geometries([output_mesh])\n"
   ]
  },
  {
   "cell_type": "code",
   "execution_count": null,
   "id": "d245cf0f-830b-421d-8c42-a7ed44cd0e85",
   "metadata": {},
   "outputs": [],
   "source": []
  }
 ],
 "metadata": {
  "kernelspec": {
   "display_name": "Python 3 (ipykernel)",
   "language": "python",
   "name": "python3"
  },
  "language_info": {
   "codemirror_mode": {
    "name": "ipython",
    "version": 3
   },
   "file_extension": ".py",
   "mimetype": "text/x-python",
   "name": "python",
   "nbconvert_exporter": "python",
   "pygments_lexer": "ipython3",
   "version": "3.10.12"
  }
 },
 "nbformat": 4,
 "nbformat_minor": 5
}
