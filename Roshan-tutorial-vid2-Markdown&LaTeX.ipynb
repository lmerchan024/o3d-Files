{
 "cells": [
  {
   "cell_type": "markdown",
   "id": "ae0e5f21",
   "metadata": {},
   "source": [
    "Heading 1\n",
    "---"
   ]
  },
  {
   "cell_type": "markdown",
   "id": "9465f934",
   "metadata": {},
   "source": [
    "**Bold**\n",
    "__bold__\n",
    "~~scratched text~~\n",
    "markdown doesn't suppoert underline. but you can use HTML <u>Text</u>\n"
   ]
  },
  {
   "cell_type": "markdown",
   "id": "f1d8ecc1",
   "metadata": {},
   "source": [
    "# List\n",
    "* item\n",
    "* item\n",
    "    * subitem\n",
    "        * subsubitem\n",
    "1. item\n",
    "\n",
    "2. item\n",
    "3. item"
   ]
  },
  {
   "cell_type": "markdown",
   "id": "9852cfaa",
   "metadata": {},
   "source": [
    "# Links\n",
    "\n",
    "[hyperlink](https://www.youtube.com/watch?v=dQw4w9WgXcQ)"
   ]
  },
  {
   "cell_type": "markdown",
   "id": "ebb3845b",
   "metadata": {},
   "source": [
    "# Images\n",
    "![description of image, will not show infinal image, just 4 u 2 read](https://i.scdn.co/image/ab67616d0000b2734b4346c0ce6f30ca3abc9a06 \"optional name for when hovering over pic\")"
   ]
  },
  {
   "cell_type": "markdown",
   "id": "e940eb97",
   "metadata": {},
   "source": [
    "# quotes\n",
    "> This is a quote\n",
    ">\n",
    ">[abraham lincoln](https://en.wikipedia.org/wiki/Wikipedia:Getting_to_Philosophy)"
   ]
  },
  {
   "cell_type": "markdown",
   "id": "c517366c",
   "metadata": {},
   "source": [
    "# horizontal lines\n",
    "---"
   ]
  },
  {
   "cell_type": "markdown",
   "id": "8f889756",
   "metadata": {},
   "source": [
    "# tables\n",
    "|Tables|Are|Cool|\n",
    "|-|:-:|-:|\n",
    "|col3|      r         ight-aligned|mk|\n",
    "|css|center|21|\n",
    "zebra|ss|2|"
   ]
  },
  {
   "cell_type": "markdown",
   "id": "37d48392",
   "metadata": {},
   "source": [
    "# html\n",
    "<b>you</b> can <i>render<i> almost any <span style='color:red;\">html</span>code you <u>like</u> \n"
   ]
  },
  {
   "cell_type": "markdown",
   "id": "f612cad8",
   "metadata": {},
   "source": [
    "# code\n",
    "Python code except (not actuall code, but just formatted as such):\n",
    "\n",
    "```python\n",
    "x=5\n",
    "print \"%.2f\" % x\n",
    "```\n",
    "\n",
    "Java Script Code:\n",
    "```javascript\n",
    "x=5\n",
    "alert(x);\n",
    "```\n",
    "note: ` and ' are diffeerent things"
   ]
  },
  {
   "cell_type": "markdown",
   "id": "7aa1fa71",
   "metadata": {},
   "source": [
    "# latex\n",
    "in line math thing $e=1$\n",
    "\n",
    "block math thing $$e=1$$"
   ]
  },
  {
   "cell_type": "markdown",
   "id": "417b3cfe",
   "metadata": {},
   "source": [
    "$x+y$\n",
    "\n",
    "$x-y$\n",
    "\n",
    "$x * y$\n",
    "\n",
    "$x \\times y$\n",
    "\n",
    "$x . y$\n",
    "\n",
    "$x/y$\n",
    "\n",
    "$x\\div y$\n",
    "\n",
    "$\\frac{x}{y}$"
   ]
  },
  {
   "cell_type": "markdown",
   "id": "5de447fa",
   "metadata": {},
   "source": [
    "# relations\n",
    "- $\\pi \\approx 3.14159265359$\n",
    "- ${1 \\over 0} \\neq \\infty$\n",
    "- $0 <x> 1$\n",
    "- $0 \\leq x \\geq 1$"
   ]
  },
  {
   "cell_type": "markdown",
   "id": "44567435",
   "metadata": {},
   "source": [
    "# fractions\n",
    "- $^1/_2$\n",
    "- $\\frac{1}{2x}$\n",
    "- ${3 \\over 4}$\n"
   ]
  },
  {
   "cell_type": "markdown",
   "id": "8ae59772",
   "metadata": {},
   "source": [
    "# greek alphabet\n",
    "|Lower Case|Upper Case|Alternative|\n",
    "|-|:-:|-:|\n",
    "|$\\alpha$|$A$|||\n",
    "||||\n",
    "||||\n",
    "||||\n",
    "||||\n",
    "||||\n",
    "||||\n",
    "||||\n",
    "||||\n",
    "||||\n",
    "||||\n",
    "||||\n",
    "||||\n",
    "||||\n",
    "||||\n",
    "||||\n",
    "||||\n",
    "||||\n",
    "||||\n",
    "||||\n",
    "||||\n",
    "||||\n",
    "||||\n",
    "||||\n"
   ]
  },
  {
   "cell_type": "markdown",
   "id": "3337ca52",
   "metadata": {},
   "source": [
    "# power n index\n",
    "$$f(x) = x^2 -x^{1 \\over \\pi}$$ has to be curly {}"
   ]
  },
  {
   "cell_type": "markdown",
   "id": "74de05b8",
   "metadata": {},
   "source": [
    "$$f(X,n) = X_n + X_{n-1}$$"
   ]
  },
  {
   "cell_type": "markdown",
   "id": "dfb30fab",
   "metadata": {},
   "source": [
    "# roots n log\n",
    "$$f(x) = \\sqrt[3]{2x} + \\sqrt{x-2}$$\n",
    "$$\\log_x x=1$$"
   ]
  },
  {
   "cell_type": "markdown",
   "id": "a2a0a3f8",
   "metadata": {},
   "source": [
    "# sums and products\n",
    "$\\sum\\limits_{a}^{b}$\n",
    "\n",
    "$\\prod\\limits_{a}^{a}$\n",
    "\n",
    "$$\\sum\\limits_{x=1}^{\\infty} {1 \\over x} = 2$$\n",
    "$$\\prod\\limits_{i=1}^{n} x_i -1$$"
   ]
  },
  {
   "cell_type": "markdown",
   "id": "57b5184d",
   "metadata": {},
   "source": [
    "# statistics\n",
    "idk what any of the following is\n",
    "$$max(s) = \\max\\limits_{i: x_i\\in \\{S\\}} x_i$$\n",
    "$$min(s) = \\min\\limits_{i: x_i\\in \\{S\\}} x_i$$\n",
    "$$\\frac{n!}{k!(n-k)!}={n \\choose k}$$"
   ]
  },
  {
   "cell_type": "markdown",
   "id": "61695375",
   "metadata": {},
   "source": [
    "# calculus\n",
    "$\\lim\\limits_{x \\to a}$\n",
    "\n",
    "$\\lim\\limits_{a}^{b}$\n",
    "\n",
    "$\\int\\limits_{a}^{b}$\n",
    "\n"
   ]
  },
  {
   "cell_type": "markdown",
   "id": "413c54f2",
   "metadata": {},
   "source": [
    "# function definition over perdiods\n",
    "i dont know"
   ]
  },
  {
   "cell_type": "markdown",
   "id": "72664c4c",
   "metadata": {},
   "source": [
    "# normal distribution\n"
   ]
  },
  {
   "cell_type": "markdown",
   "id": "c8f2ab44",
   "metadata": {},
   "source": []
  }
 ],
 "metadata": {
  "kernelspec": {
   "display_name": "Python 3 (ipykernel)",
   "language": "python",
   "name": "python3"
  },
  "language_info": {
   "codemirror_mode": {
    "name": "ipython",
    "version": 3
   },
   "file_extension": ".py",
   "mimetype": "text/x-python",
   "name": "python",
   "nbconvert_exporter": "python",
   "pygments_lexer": "ipython3",
   "version": "3.10.9"
  }
 },
 "nbformat": 4,
 "nbformat_minor": 5
}
