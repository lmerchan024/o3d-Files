{
 "cells": [
  {
   "cell_type": "code",
   "execution_count": 1,
   "id": "3f0cb880",
   "metadata": {},
   "outputs": [
    {
     "name": "stdout",
     "output_type": "stream",
     "text": [
      "test\n"
     ]
    }
   ],
   "source": [
    "print('test')"
   ]
  },
  {
   "cell_type": "code",
   "execution_count": null,
   "id": "9e5ca9aa",
   "metadata": {},
   "outputs": [
    {
     "name": "stdout",
     "output_type": "stream",
     "text": [
      "Jupyter environment detected. Enabling Open3D WebVisualizer.\n",
      "[Open3D INFO] WebRTC GUI backend enabled.\n",
      "[Open3D INFO] WebRTCWindowSystem: HTTP handshake server disabled.\n",
      "[Open3D INFO] Window window_0 created.\n",
      "[Open3D INFO] EGL headless mode enabled.\n",
      "[Open3D INFO] ICE servers: [\"stun:stun.l.google.com:19302\", \"turn:user:password@34.69.27.100:3478\", \"turn:user:password@34.69.27.100:3478?transport=tcp\"]\n",
      "[Open3D INFO] Set WEBRTC_STUN_SERVER environment variable add a customized WebRTC STUN server.\n",
      "[Open3D INFO] WebRTC Jupyter handshake mode enabled.\n"
     ]
    }
   ],
   "source": [
    "import open3d as o3d\n",
    "\n",
    "if __name__ == \"__main__\":\n",
    "    dataset = o3d.data.EaglePointCloud()\n",
    "    pcd = o3d.io.read_point_cloud(dataset.path)\n",
    "    o3d.visualization.draw(pcd)\n",
    "    "
   ]
  },
  {
   "cell_type": "code",
   "execution_count": null,
   "id": "131fd9f6",
   "metadata": {},
   "outputs": [],
   "source": [
    "\n",
    "\n",
    "#include <string>\n",
    "#include <memory>\n",
    "#include \"open3d/Open3D.h\"\n",
    "\n",
    "int main() {\n",
    "    using namespace open3d;\n",
    "\n",
    "    data::EaglePointCloud dataset;\n",
    "    auto pcd = io::CreatePointCloudFromFile(dataset.GetPath());\n",
    "    visualization::Draw({pcd});\n",
    "\n",
    "    return 0;\n",
    "}\n",
    "\n"
   ]
  },
  {
   "cell_type": "code",
   "execution_count": null,
   "id": "2ae23c98",
   "metadata": {},
   "outputs": [],
   "source": [
    "#include <open3d/open3d.hpp>\n",
    "using namespace open3d;\n",
    "t::io::RSBagReader bag_reader;\n",
    "bag_reader.Open(bag_filename);\n",
    "auto im_rgbd = bag_reader.NextFrame();\n",
    "while (!bag_reader.IsEOF()) {\n",
    "    // process im_rgbd.depth_ and im_rgbd.color_\n",
    "    im_rgbd = bag_reader.NextFrame();\n",
    "}\n",
    "bag_reader.Close();\n"
   ]
  },
  {
   "cell_type": "code",
   "execution_count": null,
   "id": "e7ad9d0b",
   "metadata": {},
   "outputs": [],
   "source": [
    "print('test')"
   ]
  },
  {
   "cell_type": "code",
   "execution_count": null,
   "id": "d5511dbe",
   "metadata": {},
   "outputs": [],
   "source": []
  },
  {
   "cell_type": "code",
   "execution_count": null,
   "id": "41835265",
   "metadata": {},
   "outputs": [],
   "source": []
  }
 ],
 "metadata": {
  "kernelspec": {
   "display_name": "Python 3 (ipykernel)",
   "language": "python",
   "name": "python3"
  },
  "language_info": {
   "codemirror_mode": {
    "name": "ipython",
    "version": 3
   },
   "file_extension": ".py",
   "mimetype": "text/x-python",
   "name": "python",
   "nbconvert_exporter": "python",
   "pygments_lexer": "ipython3",
   "version": "3.10.9"
  }
 },
 "nbformat": 4,
 "nbformat_minor": 5
}
