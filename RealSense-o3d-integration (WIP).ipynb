{
 "cells": [
  {
   "cell_type": "code",
   "execution_count": 1,
   "id": "4dfec087",
   "metadata": {},
   "outputs": [
    {
     "name": "stdout",
     "output_type": "stream",
     "text": [
      "Jupyter environment detected. Enabling Open3D WebVisualizer.\n",
      "[Open3D INFO] WebRTC GUI backend enabled.\n",
      "[Open3D INFO] WebRTCWindowSystem: HTTP handshake server disabled.\n"
     ]
    }
   ],
   "source": [
    "import open3d as o3d\n"
   ]
  },
  {
   "cell_type": "code",
   "execution_count": 2,
   "id": "1b7e5221",
   "metadata": {},
   "outputs": [],
   "source": [
    "dataset = o3d.data.EaglePointCloud() #access point cloud data called 'EaglePointCloud'"
   ]
  },
  {
   "cell_type": "code",
   "execution_count": 3,
   "id": "e0cc7510",
   "metadata": {},
   "outputs": [],
   "source": [
    "pcd = o3d.io.read_point_cloud(dataset.path) #read the pointcloud called with the alias 'dataset'\n"
   ]
  },
  {
   "cell_type": "code",
   "execution_count": 4,
   "id": "44818414",
   "metadata": {},
   "outputs": [],
   "source": [
    "o3d.visualization.draw_geometries([pcd]) #see the point cloud data!\n"
   ]
  },
  {
   "cell_type": "markdown",
   "id": "8565a9a8",
   "metadata": {},
   "source": [
    "# RealSense camera config, live capture, processing and recording\n",
    "I am using this section of the tutorial from http://www.open3d.org/docs/release/tutorial/sensor/realsense.html "
   ]
  },
  {
   "cell_type": "code",
   "execution_count": 5,
   "id": "488dc44c",
   "metadata": {},
   "outputs": [
    {
     "name": "stdout",
     "output_type": "stream",
     "text": [
      "\u001b[1;33m[Open3D WARNING] No RealSense devices detected.\u001b[0;m\n"
     ]
    },
    {
     "data": {
      "text/plain": [
       "False"
      ]
     },
     "execution_count": 5,
     "metadata": {},
     "output_type": "execute_result"
    }
   ],
   "source": [
    "o3d.t.io.RealSenseSensor.list_devices() #list all RealSense devices connected to the system\n",
    "                                        #and get their capabilities"
   ]
  },
  {
   "cell_type": "markdown",
   "id": "85521419",
   "metadata": {},
   "source": [
    "# RealSense camera configuration"
   ]
  },
  {
   "cell_type": "markdown",
   "id": "2e3cb4b6",
   "metadata": {},
   "source": [
    "I think my code didnt save the recording as a bag file because i didnt configure the camera. It said that the config is optional and if not done, jsut asumes default. I assumed the default wwas to save it as a bag file. let me see if configuration fixes it"
   ]
  },
  {
   "cell_type": "code",
   "execution_count": 17,
   "id": "a1e9a410",
   "metadata": {},
   "outputs": [
    {
     "data": {
      "text/plain": [
       "{'serial': '',\n",
       " 'color_format': 'RS2_FORMAT_RGB8',\n",
       " 'color_resolution': '0,540',\n",
       " 'depth_format': 'RS2_FORMAT_Z16',\n",
       " 'depth_resolution': '0,480',\n",
       " 'fps': '30',\n",
       " 'visual_preset': 'RS2_L500_VISUAL_PRESET_MAX_RANGE'}"
      ]
     },
     "execution_count": 17,
     "metadata": {},
     "output_type": "execute_result"
    }
   ],
   "source": [
    "with "
   ]
  },
  {
   "cell_type": "code",
   "execution_count": null,
   "id": "0163ddf2",
   "metadata": {},
   "outputs": [],
   "source": []
  },
  {
   "cell_type": "markdown",
   "id": "c55503d6",
   "metadata": {},
   "source": [
    "## RealSense camera capture, processing and recording"
   ]
  },
  {
   "cell_type": "code",
   "execution_count": 6,
   "id": "2166c858",
   "metadata": {},
   "outputs": [],
   "source": [
    "import json"
   ]
  },
  {
   "cell_type": "code",
   "execution_count": 7,
   "id": "549d1121",
   "metadata": {},
   "outputs": [],
   "source": [
    "#This is optional; it's to setup of preset configuration for the camera and apply\n",
    "#with open(config_filename) as cf:\n",
    "#    rs_cfg = o3d.t.io.RealSenseSensorConfig(json.load(cf))"
   ]
  },
  {
   "cell_type": "markdown",
   "id": "cf3907d8",
   "metadata": {},
   "source": [
    "The following code snippets show how to capture live RGBD video from a RealSense camera. They capture the first 150 frames and also record them to an RS bag file. "
   ]
  },
  {
   "cell_type": "code",
   "execution_count": 23,
   "id": "c67f254e",
   "metadata": {},
   "outputs": [
    {
     "ename": "NameError",
     "evalue": "name 'config_filename' is not defined",
     "output_type": "error",
     "traceback": [
      "\u001b[0;31m---------------------------------------------------------------------------\u001b[0m",
      "\u001b[0;31mNameError\u001b[0m                                 Traceback (most recent call last)",
      "Cell \u001b[0;32mIn[23], line 1\u001b[0m\n\u001b[0;32m----> 1\u001b[0m \u001b[38;5;28;01mwith\u001b[39;00m \u001b[38;5;28mopen\u001b[39m(\u001b[43mconfig_filename\u001b[49m) \u001b[38;5;28;01mas\u001b[39;00m cf:\n\u001b[1;32m      2\u001b[0m     rs_cfg \u001b[38;5;241m=\u001b[39m o3d\u001b[38;5;241m.\u001b[39mt\u001b[38;5;241m.\u001b[39mio\u001b[38;5;241m.\u001b[39mRealSenseSensorConfig(json\u001b[38;5;241m.\u001b[39mload(cf))\n\u001b[1;32m      4\u001b[0m rs \u001b[38;5;241m=\u001b[39m o3d\u001b[38;5;241m.\u001b[39mt\u001b[38;5;241m.\u001b[39mio\u001b[38;5;241m.\u001b[39mRealSenseSensor()\n",
      "\u001b[0;31mNameError\u001b[0m: name 'config_filename' is not defined"
     ]
    }
   ],
   "source": [
    "with open(config_filename) as cf:\n",
    "    rs_cfg = o3d.t.io.RealSenseSensorConfig(json.load(cf))\n",
    "\n",
    "rs = o3d.t.io.RealSenseSensor()\n",
    "rs.init_sensor(rs_cfg, 0, bag_filename)\n",
    "rs.start_capture(True)  # true: start recording with capture\n",
    "for fid in range(150):\n",
    "    im_rgbd = rs.capture_frame(True, True)  # wait for frames and align them\n",
    "    # process im_rgbd.depth and im_rgbd.color\n",
    "\n",
    "rs.stop_capture()"
   ]
  },
  {
   "cell_type": "code",
   "execution_count": null,
   "id": "37028dba",
   "metadata": {},
   "outputs": [],
   "source": [
    " "
   ]
  },
  {
   "cell_type": "code",
   "execution_count": null,
   "id": "b7918219",
   "metadata": {},
   "outputs": [],
   "source": []
  },
  {
   "cell_type": "code",
   "execution_count": null,
   "id": "007b0445",
   "metadata": {},
   "outputs": [],
   "source": []
  },
  {
   "cell_type": "code",
   "execution_count": null,
   "id": "421a0df9",
   "metadata": {},
   "outputs": [],
   "source": []
  },
  {
   "cell_type": "code",
   "execution_count": null,
   "id": "b9cdfed1",
   "metadata": {},
   "outputs": [],
   "source": []
  },
  {
   "cell_type": "markdown",
   "id": "7d1135d1",
   "metadata": {},
   "source": [
    "rs.init_sensor() initializes the realsense cam using specified configs\n",
    "the above line doesnt create a bag file or specify a filename to record data. w/o specifying,\n",
    "the recording will not save the captured frames to a bag file!\n",
    "\n",
    "by providing a 'bag_filename' in 'init_sensor()', the bag dile will be created and saved in the cCURRENT WORKING DIRECTORY."
   ]
  },
  {
   "cell_type": "markdown",
   "id": "474bbd63",
   "metadata": {},
   "source": [
    "## Reading from RealSense bag files"
   ]
  },
  {
   "cell_type": "markdown",
   "id": "c002486d",
   "metadata": {},
   "source": [
    "how do i see the data? maybe this site helps? https://support.intelrealsense.com/hc/en-us/community/posts/4404465205651-How-do-I-view-bag-file- it links to a github on a converter from data to various data types?"
   ]
  },
  {
   "cell_type": "code",
   "execution_count": 12,
   "id": "fb1d2b1a",
   "metadata": {},
   "outputs": [
    {
     "name": "stdout",
     "output_type": "stream",
     "text": [
      "\u001b[1;33m[Open3D WARNING] Unable to open file rs_rec_1.bag\u001b[0;m\n"
     ]
    },
    {
     "ename": "RuntimeError",
     "evalue": "\u001b[1;31m[Open3D Error] (virtual open3d::t::geometry::RGBDImage open3d::t::io::RSBagReader::NextFrame()) /root/Open3D/cpp/open3d/t/io/sensor/realsense/RSBagReader.cpp:168: Null file handler. Please call Open().\n\u001b[0;m",
     "output_type": "error",
     "traceback": [
      "\u001b[0;31m---------------------------------------------------------------------------\u001b[0m",
      "\u001b[0;31mRuntimeError\u001b[0m                              Traceback (most recent call last)",
      "Cell \u001b[0;32mIn[12], line 3\u001b[0m\n\u001b[1;32m      1\u001b[0m bag_reader \u001b[38;5;241m=\u001b[39m o3d\u001b[38;5;241m.\u001b[39mt\u001b[38;5;241m.\u001b[39mio\u001b[38;5;241m.\u001b[39mRSBagReader()\n\u001b[1;32m      2\u001b[0m bag_reader\u001b[38;5;241m.\u001b[39mcreate(\u001b[38;5;124m'\u001b[39m\u001b[38;5;124mrs_rec_1.bag\u001b[39m\u001b[38;5;124m'\u001b[39m)\n\u001b[0;32m----> 3\u001b[0m im_rgbd \u001b[38;5;241m=\u001b[39m \u001b[43mbag_reader\u001b[49m\u001b[38;5;241;43m.\u001b[39;49m\u001b[43mnext_frame\u001b[49m\u001b[43m(\u001b[49m\u001b[43m)\u001b[49m\n\u001b[1;32m      4\u001b[0m \u001b[38;5;28;01mwhile\u001b[39;00m \u001b[38;5;129;01mnot\u001b[39;00m bag_reader\u001b[38;5;241m.\u001b[39mis_eof():\n\u001b[1;32m      5\u001b[0m     \u001b[38;5;66;03m# process im_rgbd.depth and im_rgbd.color\u001b[39;00m\n\u001b[1;32m      6\u001b[0m     im_rgbd \u001b[38;5;241m=\u001b[39m bag_reader\u001b[38;5;241m.\u001b[39mnext_frame()\n",
      "\u001b[0;31mRuntimeError\u001b[0m: \u001b[1;31m[Open3D Error] (virtual open3d::t::geometry::RGBDImage open3d::t::io::RSBagReader::NextFrame()) /root/Open3D/cpp/open3d/t/io/sensor/realsense/RSBagReader.cpp:168: Null file handler. Please call Open().\n\u001b[0;m"
     ]
    }
   ],
   "source": [
    "bag_reader = o3d.t.io.RSBagReader()\n",
    "bag_reader.open('rs_rec_1.')\n",
    "im_rgbd = bag_reader.next_frame()\n",
    "while not bag_reader.is_eof():\n",
    "    # process im_rgbd.depth and im_rgbd.color\n",
    "    im_rgbd = bag_reader.next_frame()\n",
    "\n",
    "bag_reader.close()"
   ]
  },
  {
   "cell_type": "code",
   "execution_count": 8,
   "id": "26dad117",
   "metadata": {},
   "outputs": [
    {
     "name": "stdout",
     "output_type": "stream",
     "text": [
      " copy_of_Juneau.jpg\r\n",
      " cv\r\n",
      " cv2\r\n",
      " DepthCamera_2023-07-20-16-38-29.json\r\n",
      " DepthCamera_2023-07-20-16-38-30.json\r\n",
      " DepthCamera_2023-07-21-14-59-44.json\r\n",
      " DepthCapture_2023-07-20-16-38-29.png\r\n",
      " DepthCapture_2023-07-20-16-38-30.png\r\n",
      " DepthCapture_2023-07-21-14-59-44.png\r\n",
      " \u001b[0m\u001b[01;34mDesktop\u001b[0m/\r\n",
      " \u001b[01;34mDocuments\u001b[0m/\r\n",
      " \u001b[01;34mDownloads\u001b[0m/\r\n",
      " \u001b[01;34mMusic\u001b[0m/\r\n",
      " my-first-notebook.html\r\n",
      " my-first-notebook.ipynb\r\n",
      " my-first-notebook.py\r\n",
      " o3d-tut.ipynb\r\n",
      " \u001b[01;34mOpen3D\u001b[0m/\r\n",
      " \u001b[01;34mopen3d_data\u001b[0m/\r\n",
      " \u001b[01;34mopenvr\u001b[0m/\r\n",
      " \u001b[01;34mPictures\u001b[0m/\r\n",
      " \u001b[01;34mProjects\u001b[0m/\r\n",
      "'RealSense-o3d-integration (WIP).ipynb'\r\n",
      "'RealSense with Open3D Tut (WIP).ipynb'\r\n",
      " RenderOption_2023-07-21-14-59-17.json\r\n",
      " RenderOption_2023-07-21-14-59-18.json\r\n",
      "'Roshan-tutorial-vid2-Markdown&LaTeX.ipynb'\r\n",
      " roshan-tutorial-vid3-python3.ipynb\r\n",
      " rs_rec_1\r\n",
      " rs-rec-2\r\n",
      " rs_rec_3\r\n",
      " rs_rec_4\r\n",
      " rs_rec_5\r\n",
      " ScreenCamera_2023-07-21-14-59-17.json\r\n",
      " ScreenCapture_2023-07-21-14-59-17.png\r\n",
      " \u001b[01;34msnap\u001b[0m/\r\n",
      " \u001b[01;34msteamvr\u001b[0m/\r\n",
      " Untitled1.ipynb\r\n",
      " Untitled2.ipynb\r\n",
      " Untitled.ipynb\r\n",
      " \u001b[01;34mVideos\u001b[0m/\r\n",
      " ViveSetup.exe\r\n"
     ]
    }
   ],
   "source": [
    "ls\n"
   ]
  },
  {
   "cell_type": "code",
   "execution_count": null,
   "id": "c1c443e1",
   "metadata": {},
   "outputs": [],
   "source": []
  },
  {
   "cell_type": "code",
   "execution_count": null,
   "id": "6becb0df",
   "metadata": {},
   "outputs": [],
   "source": []
  },
  {
   "cell_type": "code",
   "execution_count": null,
   "id": "0f396e0d",
   "metadata": {},
   "outputs": [],
   "source": []
  },
  {
   "cell_type": "code",
   "execution_count": null,
   "id": "5c095709",
   "metadata": {},
   "outputs": [],
   "source": [
    "\n"
   ]
  }
 ],
 "metadata": {
  "kernelspec": {
   "display_name": "Python 3 (ipykernel)",
   "language": "python",
   "name": "python3"
  },
  "language_info": {
   "codemirror_mode": {
    "name": "ipython",
    "version": 3
   },
   "file_extension": ".py",
   "mimetype": "text/x-python",
   "name": "python",
   "nbconvert_exporter": "python",
   "pygments_lexer": "ipython3",
   "version": "3.10.9"
  }
 },
 "nbformat": 4,
 "nbformat_minor": 5
}
